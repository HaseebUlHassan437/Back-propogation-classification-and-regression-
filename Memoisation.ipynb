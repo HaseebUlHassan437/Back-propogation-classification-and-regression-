{
  "nbformat": 4,
  "nbformat_minor": 0,
  "metadata": {
    "colab": {
      "provenance": [],
      "authorship_tag": "ABX9TyNARde99HdLGr918XpSBcP7",
      "include_colab_link": true
    },
    "kernelspec": {
      "name": "python3",
      "display_name": "Python 3"
    },
    "language_info": {
      "name": "python"
    }
  },
  "cells": [
    {
      "cell_type": "markdown",
      "metadata": {
        "id": "view-in-github",
        "colab_type": "text"
      },
      "source": [
        "<a href=\"https://colab.research.google.com/github/HaseebUlHassan437/Back-propogation-classification-and-regression-/blob/main/Memoisation.ipynb\" target=\"_parent\"><img src=\"https://colab.research.google.com/assets/colab-badge.svg\" alt=\"Open In Colab\"/></a>"
      ]
    },
    {
      "cell_type": "markdown",
      "source": [
        "## Increase speed by using space"
      ],
      "metadata": {
        "id": "CsR3ouwnk8Yx"
      }
    },
    {
      "cell_type": "code",
      "execution_count": 1,
      "metadata": {
        "id": "iz1LqTOLk2EN"
      },
      "outputs": [],
      "source": [
        "def fib(n):\n",
        "  if n == 1 or n == 2:\n",
        "    return 1\n",
        "  else:\n",
        "    return fib(n-1) + fib(n-2)"
      ]
    },
    {
      "cell_type": "code",
      "source": [
        "import time\n",
        "\n",
        "start_time = time.time()  # ⏳ Start the timer\n",
        "\n",
        "# Your code here\n",
        "fib(40)\n",
        "end_time = time.time()  # ⏹️ End the timer\n",
        "\n",
        "print(\"Elapsed time:\", end_time - start_time, \"seconds\")"
      ],
      "metadata": {
        "colab": {
          "base_uri": "https://localhost:8080/"
        },
        "id": "yPEHb7kAlNsg",
        "outputId": "1b63761a-8ed2-4742-ecc6-0622985cb58c"
      },
      "execution_count": 7,
      "outputs": [
        {
          "output_type": "stream",
          "name": "stdout",
          "text": [
            "Elapsed time: 16.97019076347351 seconds\n"
          ]
        }
      ]
    },
    {
      "cell_type": "code",
      "source": [
        "def fib(n,d):\n",
        "  if n in d:\n",
        "    print(n , \" = \", d[n] )\n",
        "    return d[n]\n",
        "  else:\n",
        "    d[n] = fib(n-1,d) + fib(n-2,d)\n",
        "    return d[n]"
      ],
      "metadata": {
        "id": "op14DurTlP5Q"
      },
      "execution_count": 13,
      "outputs": []
    },
    {
      "cell_type": "code",
      "source": [
        "d = {0:1,1:1}\n",
        "start_time = time.time()  # ⏳ Start the timer\n",
        "\n",
        "fib(5,d)\n",
        "end_time = time.time()  # ⏹️ End the timer\n",
        "\n",
        "print(\"Elapsed time:\", end_time - start_time, \"seconds\")"
      ],
      "metadata": {
        "colab": {
          "base_uri": "https://localhost:8080/"
        },
        "id": "nI9iYynaqSfZ",
        "outputId": "80c6f896-49e0-4806-97bc-978531b162a2"
      },
      "execution_count": 15,
      "outputs": [
        {
          "output_type": "stream",
          "name": "stdout",
          "text": [
            "1  =  1\n",
            "0  =  1\n",
            "1  =  1\n",
            "2  =  2\n",
            "3  =  3\n",
            "Elapsed time: 0.00020313262939453125 seconds\n"
          ]
        }
      ]
    },
    {
      "cell_type": "code",
      "source": [],
      "metadata": {
        "id": "K8n4ejLxq4lj"
      },
      "execution_count": null,
      "outputs": []
    }
  ]
}